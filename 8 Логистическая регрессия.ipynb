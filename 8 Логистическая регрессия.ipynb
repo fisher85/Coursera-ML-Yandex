{
 "cells": [
  {
   "cell_type": "code",
   "execution_count": 141,
   "metadata": {
    "collapsed": true
   },
   "outputs": [],
   "source": [
    "# Загрузите данные из файла data-logistic.csv. \n",
    "# Это двумерная выборка, целевая переменная на которой принимает значения -1 или 1.\n",
    "import pandas as pd\n",
    "data = pd.read_csv('data\\\\data-logistic.csv', header=None)\n",
    "y = data[0]\n",
    "X = data.drop(0, 1)"
   ]
  },
  {
   "cell_type": "code",
   "execution_count": 142,
   "metadata": {},
   "outputs": [
    {
     "data": {
      "text/plain": [
       "0   -1\n",
       "1    1\n",
       "2   -1\n",
       "3    1\n",
       "4    1\n",
       "Name: 0, dtype: int64"
      ]
     },
     "execution_count": 142,
     "metadata": {},
     "output_type": "execute_result"
    }
   ],
   "source": [
    "y[:5]"
   ]
  },
  {
   "cell_type": "code",
   "execution_count": 143,
   "metadata": {},
   "outputs": [
    {
     "data": {
      "text/html": [
       "<div>\n",
       "<style>\n",
       "    .dataframe thead tr:only-child th {\n",
       "        text-align: right;\n",
       "    }\n",
       "\n",
       "    .dataframe thead th {\n",
       "        text-align: left;\n",
       "    }\n",
       "\n",
       "    .dataframe tbody tr th {\n",
       "        vertical-align: top;\n",
       "    }\n",
       "</style>\n",
       "<table border=\"1\" class=\"dataframe\">\n",
       "  <thead>\n",
       "    <tr style=\"text-align: right;\">\n",
       "      <th></th>\n",
       "      <th>1</th>\n",
       "      <th>2</th>\n",
       "    </tr>\n",
       "  </thead>\n",
       "  <tbody>\n",
       "    <tr>\n",
       "      <th>0</th>\n",
       "      <td>-0.663827</td>\n",
       "      <td>-0.138526</td>\n",
       "    </tr>\n",
       "    <tr>\n",
       "      <th>1</th>\n",
       "      <td>1.994596</td>\n",
       "      <td>2.468025</td>\n",
       "    </tr>\n",
       "    <tr>\n",
       "      <th>2</th>\n",
       "      <td>-1.247395</td>\n",
       "      <td>0.749425</td>\n",
       "    </tr>\n",
       "    <tr>\n",
       "      <th>3</th>\n",
       "      <td>2.309374</td>\n",
       "      <td>1.899836</td>\n",
       "    </tr>\n",
       "    <tr>\n",
       "      <th>4</th>\n",
       "      <td>0.849143</td>\n",
       "      <td>2.407750</td>\n",
       "    </tr>\n",
       "  </tbody>\n",
       "</table>\n",
       "</div>"
      ],
      "text/plain": [
       "          1         2\n",
       "0 -0.663827 -0.138526\n",
       "1  1.994596  2.468025\n",
       "2 -1.247395  0.749425\n",
       "3  2.309374  1.899836\n",
       "4  0.849143  2.407750"
      ]
     },
     "execution_count": 143,
     "metadata": {},
     "output_type": "execute_result"
    }
   ],
   "source": [
    "X[:5]"
   ]
  },
  {
   "cell_type": "code",
   "execution_count": 144,
   "metadata": {
    "collapsed": true
   },
   "outputs": [],
   "source": [
    "# Убедитесь, что выше выписаны правильные формулы для градиентного спуска. \n",
    "import math\n",
    "def update_w(X, y, w, k, C):\n",
    "    l = len(X)\n",
    "    summa_w1 = 0\n",
    "    summa_w2 = 0\n",
    "    for i in range(0, l):\n",
    "        summa_w1 += y[i] * X[1][i] * (1.0 - 1.0 / (1.0 + math.exp(-y[i] * (w[0]*X[1][i] + w[1]*X[2][i]))))\n",
    "        summa_w2 += y[i] * X[2][i] * (1.0 - 1.0 / (1.0 + math.exp(-y[i] * (w[0]*X[1][i] + w[1]*X[2][i]))))\n",
    "\n",
    "    new_w1 = w[0] + (k * (1.0 / l) * summa_w1) - k * C * w[0]\n",
    "    new_w2 = w[1] + (k * (1.0 / l) * summa_w2) - k * C * w[1]\n",
    "    return [new_w1, new_w2]"
   ]
  },
  {
   "cell_type": "code",
   "execution_count": 145,
   "metadata": {},
   "outputs": [
    {
     "name": "stdout",
     "output_type": "stream",
     "text": [
      "[0.035731266398741086, 0.032459971278388684]\n"
     ]
    }
   ],
   "source": [
    "# Проверка обновления весов\n",
    "print(update_w(X, y, [0.0, 0.0], 0.1, 10.0))"
   ]
  },
  {
   "cell_type": "code",
   "execution_count": 146,
   "metadata": {},
   "outputs": [
    {
     "name": "stdout",
     "output_type": "stream",
     "text": [
      "5.0\n"
     ]
    }
   ],
   "source": [
    "# Проверка Пифагора и Евклида \n",
    "from scipy.spatial import distance\n",
    "a = [0, 0]\n",
    "b = [3, 4]\n",
    "print(distance.euclidean(a,b))"
   ]
  },
  {
   "cell_type": "code",
   "execution_count": 147,
   "metadata": {
    "collapsed": true
   },
   "outputs": [],
   "source": [
    "# Реализуйте градиентный спуск для обычной и L2-регуляризованной (с коэффициентом регуляризации 10) логистической регрессии. \n",
    "# Используйте длину шага k=0.1. В качестве начального приближения используйте вектор (0, 0).\n",
    "\n",
    "# Запустите градиентный спуск и доведите до сходимости \n",
    "# (евклидово расстояние между векторами весов на соседних итерациях должно быть не больше 1e-5). \n",
    "# Рекомендуется ограничить сверху число итераций десятью тысячами.\n",
    "\n",
    "def gradient_descent(X, y, C = 0.0, w0 = [0.0, 0.0], k = 0.1, error = 1e-5, max_steps = 10000):\n",
    "    l = len(X) # длина выборки\n",
    "    w = w0\n",
    "    \n",
    "    for step in range(max_steps):\n",
    "        new_w = update_w(X, y, w, k, C)\n",
    "        \n",
    "        dist = distance.euclidean(new_w, w)\n",
    "        if dist < error:\n",
    "            print('Достигли заданной погрешности. Шаг ', step)\n",
    "            print(new_w)\n",
    "            break\n",
    "        else:\n",
    "            w = new_w\n",
    "\n",
    "    return w   "
   ]
  },
  {
   "cell_type": "code",
   "execution_count": 148,
   "metadata": {},
   "outputs": [
    {
     "name": "stdout",
     "output_type": "stream",
     "text": [
      "Достигли заданной погрешности. Шаг  243\n",
      "[0.28781162047177639, 0.09198330215925439]\n"
     ]
    }
   ],
   "source": [
    "w1 = gradient_descent(X, y)"
   ]
  },
  {
   "cell_type": "code",
   "execution_count": 149,
   "metadata": {},
   "outputs": [
    {
     "name": "stdout",
     "output_type": "stream",
     "text": [
      "Достигли заданной погрешности. Шаг  7\n",
      "[0.028558754546234223, 0.024780137249735559]\n"
     ]
    }
   ],
   "source": [
    "w2 = gradient_descent(X, y, 10.0)"
   ]
  },
  {
   "cell_type": "code",
   "execution_count": 150,
   "metadata": {},
   "outputs": [],
   "source": [
    "# Какое значение принимает AUC-ROC на обучении без регуляризации и при ее использовании? \n",
    "\n",
    "# Обратите внимание, что на вход функции roc_auc_score нужно подавать оценки вероятностей, подсчитанные обученным алгоритмом. \n",
    "# Для этого воспользуйтесь сигмоидной функцией: a(x) = 1 / (1 + exp(-w1 x1 - w2 x2)).\n",
    "\n",
    "from sklearn.metrics import roc_auc_score\n",
    "\n",
    "def a(X, w):\n",
    "    return 1.0 / (1.0 + math.exp(-w[0] * X[1] - w[1] * X[2]))\n",
    "\n",
    "est1 = X.apply(lambda x: a(x, w1), axis=1)\n",
    "est2 = X.apply(lambda x: a(x, w2), axis=1)\n",
    "\n",
    "auc1 = roc_auc_score(y, est1)\n",
    "auc2 = roc_auc_score(y, est2)"
   ]
  },
  {
   "cell_type": "code",
   "execution_count": 151,
   "metadata": {},
   "outputs": [
    {
     "data": {
      "text/plain": [
       "(0.92685714285714282, 0.93628571428571417)"
      ]
     },
     "execution_count": 151,
     "metadata": {},
     "output_type": "execute_result"
    }
   ],
   "source": [
    "auc1, auc2\n",
    "# 0.927 0.936"
   ]
  }
 ],
 "metadata": {
  "kernelspec": {
   "display_name": "Python 3",
   "language": "python",
   "name": "python3"
  },
  "language_info": {
   "codemirror_mode": {
    "name": "ipython",
    "version": 3
   },
   "file_extension": ".py",
   "mimetype": "text/x-python",
   "name": "python",
   "nbconvert_exporter": "python",
   "pygments_lexer": "ipython3",
   "version": "3.6.1"
  }
 },
 "nbformat": 4,
 "nbformat_minor": 2
}
