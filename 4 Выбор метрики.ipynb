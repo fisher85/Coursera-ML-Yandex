{
 "cells": [
  {
   "cell_type": "code",
   "execution_count": 89,
   "metadata": {},
   "outputs": [
    {
     "name": "stdout",
     "output_type": "stream",
     "text": [
      "(506, 13)\n",
      "[[  6.32000000e-03   1.80000000e+01   2.31000000e+00   0.00000000e+00\n",
      "    5.38000000e-01   6.57500000e+00   6.52000000e+01   4.09000000e+00\n",
      "    1.00000000e+00   2.96000000e+02   1.53000000e+01   3.96900000e+02\n",
      "    4.98000000e+00]]\n",
      "[ 24.   21.6  34.7  33.4  36.2]\n"
     ]
    }
   ],
   "source": [
    "# Мы будем использовать в данном задании набор данных Boston, \n",
    "# где нужно предсказать стоимость жилья на основе различных характеристик расположения \n",
    "# (загрязненность воздуха, близость к дорогам и т.д.).\n",
    "# https://archive.ics.uci.edu/ml/machine-learning-databases/housing/\n",
    "\n",
    "from sklearn.datasets import load_boston\n",
    "boston = load_boston()\n",
    "print(boston.data.shape)\n",
    "print(boston.data[:1])\n",
    "print(boston.target[:5])"
   ]
  },
  {
   "cell_type": "code",
   "execution_count": 90,
   "metadata": {},
   "outputs": [
    {
     "data": {
      "text/plain": [
       "array([[-0.41771335,  0.28482986, -1.2879095 , -0.27259857, -0.14421743,\n",
       "         0.41367189, -0.12001342,  0.1402136 , -0.98284286, -0.66660821,\n",
       "        -1.45900038,  0.44105193, -1.0755623 ]])"
      ]
     },
     "execution_count": 90,
     "metadata": {},
     "output_type": "execute_result"
    }
   ],
   "source": [
    "# Приведите признаки в выборке к одному масштабу при помощи функции sklearn.preprocessing.scale.\n",
    "from sklearn import preprocessing\n",
    "scaled = preprocessing.scale(boston.data)\n",
    "scaled[:1]"
   ]
  },
  {
   "cell_type": "code",
   "execution_count": 91,
   "metadata": {},
   "outputs": [
    {
     "name": "stdout",
     "output_type": "stream",
     "text": [
      "The scikit-learn version is 0.18.1.\n"
     ]
    }
   ],
   "source": [
    "# При использовании библиотеки scikit-learn версии 0.18.1 и выше необходимо указывать scoring='neg_mean_squared_error' \n",
    "import sklearn\n",
    "print('The scikit-learn version is {}.'.format(sklearn.__version__))"
   ]
  },
  {
   "cell_type": "code",
   "execution_count": 92,
   "metadata": {},
   "outputs": [
    {
     "name": "stdout",
     "output_type": "stream",
     "text": [
      "TRAIN: [ 1  3  4  5  6  7  8 10 12 13 14 15 16 17 19] TEST: [ 0  2  9 11 18 22 30 33 39 46 55 63 68 69 70]\n",
      "TRAIN: [ 0  1  2  4  6  8  9 10 11 12 13 14 18 20 21] TEST: [ 3  5  7 15 16 17 19 23 24 25 26 29 31 37 42]\n",
      "TRAIN: [ 0  1  2  3  4  5  7  8  9 11 12 13 14 15 16] TEST: [  6  10  36  38  59  74  81  83  89  96  97 103 111 112 119]\n",
      "TRAIN: [ 0  1  2  3  5  6  7  9 10 11 13 15 16 17 18] TEST: [ 4  8 12 14 27 28 32 35 40 41 44 47 51 61 62]\n",
      "TRAIN: [ 0  2  3  4  5  6  7  8  9 10 11 12 14 15 16] TEST: [ 1 13 20 21 34 43 48 49 50 52 53 54 58 71 80]\n"
     ]
    }
   ],
   "source": [
    "# Переберите разные варианты параметра метрики p по сетке от 1 до 10 с таким шагом, \n",
    "# чтобы всего было протестировано 200 вариантов\n",
    "import numpy as np\n",
    "size = 200\n",
    "indexes = np.linspace(1.0, 10.0, size)\n",
    "cv_score = np.zeros(size)\n",
    "\n",
    "from sklearn.neighbors import KNeighborsRegressor\n",
    "from sklearn.model_selection import cross_val_score\n",
    "\n",
    "from sklearn.model_selection import KFold\n",
    "kf = KFold(n_splits=5, random_state=42, shuffle=True)\n",
    "\n",
    "for train_index, test_index in kf.split(scaled):\n",
    "   print(\"TRAIN:\", train_index[:15], \"TEST:\", test_index[:15])"
   ]
  },
  {
   "cell_type": "code",
   "execution_count": 93,
   "metadata": {},
   "outputs": [],
   "source": [
    "for i in range(len(indexes)):\n",
    "    param = indexes[i]\n",
    "    # print('i =', i, ' p =', param)\n",
    "    neigh = KNeighborsRegressor(n_neighbors=5, weights='distance', metric='minkowski', p=param)\n",
    "    neigh.fit(scaled, boston.target)\n",
    "    cv_score[i] = cross_val_score(estimator=neigh, X=scaled, y=boston.target, cv=kf, scoring='neg_mean_squared_error').mean()    "
   ]
  },
  {
   "cell_type": "code",
   "execution_count": 94,
   "metadata": {},
   "outputs": [],
   "source": [
    "# Negative MSE score\n",
    "# https://stackoverflow.com/questions/21050110/sklearn-gridsearchcv-with-pipeline\n",
    "# Those scores are negative MSE scores, i.e. negate them and you get the MSE.\n",
    "# cv_score = cv_score*(-1)"
   ]
  },
  {
   "cell_type": "code",
   "execution_count": 95,
   "metadata": {},
   "outputs": [
    {
     "data": {
      "text/plain": [
       "array([188, 187, 186, 185, 184, 199, 183, 182, 181, 180, 179, 191, 156,\n",
       "       154, 198, 155, 197, 153, 196, 190, 152, 195, 189, 194, 193, 192,\n",
       "       151, 148, 178, 157, 150, 149, 146, 177, 165, 170, 167, 145, 166,\n",
       "       144, 169, 168, 164, 143, 147, 142, 163, 162, 176, 173, 175, 171,\n",
       "       172, 174, 141, 140, 139, 159, 158, 161, 160, 138, 135, 134, 133,\n",
       "       137, 136, 132, 121, 123, 131, 127, 130, 128, 129, 122, 124, 126,\n",
       "       125, 120, 119, 118, 108, 107, 109, 111, 110, 112, 106, 113, 117,\n",
       "       115, 116, 114, 104, 103, 105, 100, 102, 101,  88,  99,  85,  87,\n",
       "        86,  98,  97,  84,  94,  90,  83,  89,  92,  96,  95,  93,  91,\n",
       "        82,  80,  81,  79,  75,  73,  74,  72,  78,  76,  77,  67,  66,\n",
       "        68,  70,  69,  65,  71,  63,  64,  62,  59,  58,  61,  60,  57,\n",
       "        56,  54,  55,  52,  53,  49,  50,  48,  47,  51,  46,  45,  44,\n",
       "        43,  42,  25,  40,  41,  32,  31,  30,  26,  29,  38,  39,  28,\n",
       "        35,  37,  36,  20,  24,  21,  23,  34,  27,  22,  19,  33,  18,\n",
       "        17,  16,  10,   9,  12,  15,  14,  11,   8,   7,  13,   6,   5,\n",
       "         4,   3,   1,   2,   0], dtype=int32)"
      ]
     },
     "execution_count": 95,
     "metadata": {},
     "output_type": "execute_result"
    }
   ],
   "source": [
    "sorted = cv_score.argsort()\n",
    "sorted"
   ]
  },
  {
   "cell_type": "code",
   "execution_count": 96,
   "metadata": {},
   "outputs": [
    {
     "data": {
      "text/plain": [
       "0"
      ]
     },
     "execution_count": 96,
     "metadata": {},
     "output_type": "execute_result"
    }
   ],
   "source": [
    "cv_score.argmax(axis=0)"
   ]
  },
  {
   "cell_type": "code",
   "execution_count": 98,
   "metadata": {},
   "outputs": [
    {
     "data": {
      "text/plain": [
       "1.0"
      ]
     },
     "execution_count": 98,
     "metadata": {},
     "output_type": "execute_result"
    }
   ],
   "source": [
    "# Ответ 1 = 9.50\n",
    "indexes[0]"
   ]
  }
 ],
 "metadata": {
  "kernelspec": {
   "display_name": "Python 3",
   "language": "python",
   "name": "python3"
  },
  "language_info": {
   "codemirror_mode": {
    "name": "ipython",
    "version": 3
   },
   "file_extension": ".py",
   "mimetype": "text/x-python",
   "name": "python",
   "nbconvert_exporter": "python",
   "pygments_lexer": "ipython3",
   "version": "3.6.1"
  }
 },
 "nbformat": 4,
 "nbformat_minor": 2
}
