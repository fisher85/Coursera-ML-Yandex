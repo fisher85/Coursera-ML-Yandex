{
 "cells": [
  {
   "cell_type": "markdown",
   "metadata": {},
   "source": [
    "# Подход 1: градиентный бустинг \"в лоб\""
   ]
  },
  {
   "cell_type": "markdown",
   "metadata": {},
   "source": [
    "## 1. Считайте таблицу с признаками из файла features.csv с помощью кода, приведенного выше."
   ]
  },
  {
   "cell_type": "code",
   "execution_count": 1,
   "metadata": {},
   "outputs": [
    {
     "data": {
      "text/html": [
       "<div>\n",
       "<style>\n",
       "    .dataframe thead tr:only-child th {\n",
       "        text-align: right;\n",
       "    }\n",
       "\n",
       "    .dataframe thead th {\n",
       "        text-align: left;\n",
       "    }\n",
       "\n",
       "    .dataframe tbody tr th {\n",
       "        vertical-align: top;\n",
       "    }\n",
       "</style>\n",
       "<table border=\"1\" class=\"dataframe\">\n",
       "  <thead>\n",
       "    <tr style=\"text-align: right;\">\n",
       "      <th></th>\n",
       "      <th>start_time</th>\n",
       "      <th>lobby_type</th>\n",
       "      <th>r1_hero</th>\n",
       "      <th>r1_level</th>\n",
       "      <th>r1_xp</th>\n",
       "      <th>r1_gold</th>\n",
       "      <th>r1_lh</th>\n",
       "      <th>r1_kills</th>\n",
       "      <th>r1_deaths</th>\n",
       "      <th>r1_items</th>\n",
       "      <th>...</th>\n",
       "      <th>dire_boots_count</th>\n",
       "      <th>dire_ward_observer_count</th>\n",
       "      <th>dire_ward_sentry_count</th>\n",
       "      <th>dire_first_ward_time</th>\n",
       "      <th>duration</th>\n",
       "      <th>radiant_win</th>\n",
       "      <th>tower_status_radiant</th>\n",
       "      <th>tower_status_dire</th>\n",
       "      <th>barracks_status_radiant</th>\n",
       "      <th>barracks_status_dire</th>\n",
       "    </tr>\n",
       "    <tr>\n",
       "      <th>match_id</th>\n",
       "      <th></th>\n",
       "      <th></th>\n",
       "      <th></th>\n",
       "      <th></th>\n",
       "      <th></th>\n",
       "      <th></th>\n",
       "      <th></th>\n",
       "      <th></th>\n",
       "      <th></th>\n",
       "      <th></th>\n",
       "      <th></th>\n",
       "      <th></th>\n",
       "      <th></th>\n",
       "      <th></th>\n",
       "      <th></th>\n",
       "      <th></th>\n",
       "      <th></th>\n",
       "      <th></th>\n",
       "      <th></th>\n",
       "      <th></th>\n",
       "      <th></th>\n",
       "    </tr>\n",
       "  </thead>\n",
       "  <tbody>\n",
       "    <tr>\n",
       "      <th>0</th>\n",
       "      <td>1430198770</td>\n",
       "      <td>7</td>\n",
       "      <td>11</td>\n",
       "      <td>5</td>\n",
       "      <td>2098</td>\n",
       "      <td>1489</td>\n",
       "      <td>20</td>\n",
       "      <td>0</td>\n",
       "      <td>0</td>\n",
       "      <td>7</td>\n",
       "      <td>...</td>\n",
       "      <td>4</td>\n",
       "      <td>2</td>\n",
       "      <td>2</td>\n",
       "      <td>-52.0</td>\n",
       "      <td>2874</td>\n",
       "      <td>1</td>\n",
       "      <td>1796</td>\n",
       "      <td>0</td>\n",
       "      <td>51</td>\n",
       "      <td>0</td>\n",
       "    </tr>\n",
       "    <tr>\n",
       "      <th>1</th>\n",
       "      <td>1430220345</td>\n",
       "      <td>0</td>\n",
       "      <td>42</td>\n",
       "      <td>4</td>\n",
       "      <td>1188</td>\n",
       "      <td>1033</td>\n",
       "      <td>9</td>\n",
       "      <td>0</td>\n",
       "      <td>1</td>\n",
       "      <td>12</td>\n",
       "      <td>...</td>\n",
       "      <td>4</td>\n",
       "      <td>3</td>\n",
       "      <td>1</td>\n",
       "      <td>-5.0</td>\n",
       "      <td>2463</td>\n",
       "      <td>1</td>\n",
       "      <td>1974</td>\n",
       "      <td>0</td>\n",
       "      <td>63</td>\n",
       "      <td>1</td>\n",
       "    </tr>\n",
       "    <tr>\n",
       "      <th>2</th>\n",
       "      <td>1430227081</td>\n",
       "      <td>7</td>\n",
       "      <td>33</td>\n",
       "      <td>4</td>\n",
       "      <td>1319</td>\n",
       "      <td>1270</td>\n",
       "      <td>22</td>\n",
       "      <td>0</td>\n",
       "      <td>0</td>\n",
       "      <td>12</td>\n",
       "      <td>...</td>\n",
       "      <td>4</td>\n",
       "      <td>3</td>\n",
       "      <td>1</td>\n",
       "      <td>13.0</td>\n",
       "      <td>2130</td>\n",
       "      <td>0</td>\n",
       "      <td>0</td>\n",
       "      <td>1830</td>\n",
       "      <td>0</td>\n",
       "      <td>63</td>\n",
       "    </tr>\n",
       "    <tr>\n",
       "      <th>3</th>\n",
       "      <td>1430263531</td>\n",
       "      <td>1</td>\n",
       "      <td>29</td>\n",
       "      <td>4</td>\n",
       "      <td>1779</td>\n",
       "      <td>1056</td>\n",
       "      <td>14</td>\n",
       "      <td>0</td>\n",
       "      <td>0</td>\n",
       "      <td>5</td>\n",
       "      <td>...</td>\n",
       "      <td>4</td>\n",
       "      <td>2</td>\n",
       "      <td>0</td>\n",
       "      <td>27.0</td>\n",
       "      <td>1459</td>\n",
       "      <td>0</td>\n",
       "      <td>1920</td>\n",
       "      <td>2047</td>\n",
       "      <td>50</td>\n",
       "      <td>63</td>\n",
       "    </tr>\n",
       "    <tr>\n",
       "      <th>4</th>\n",
       "      <td>1430282290</td>\n",
       "      <td>7</td>\n",
       "      <td>13</td>\n",
       "      <td>4</td>\n",
       "      <td>1431</td>\n",
       "      <td>1090</td>\n",
       "      <td>8</td>\n",
       "      <td>1</td>\n",
       "      <td>0</td>\n",
       "      <td>8</td>\n",
       "      <td>...</td>\n",
       "      <td>3</td>\n",
       "      <td>3</td>\n",
       "      <td>0</td>\n",
       "      <td>-16.0</td>\n",
       "      <td>2449</td>\n",
       "      <td>0</td>\n",
       "      <td>4</td>\n",
       "      <td>1974</td>\n",
       "      <td>3</td>\n",
       "      <td>63</td>\n",
       "    </tr>\n",
       "  </tbody>\n",
       "</table>\n",
       "<p>5 rows × 108 columns</p>\n",
       "</div>"
      ],
      "text/plain": [
       "          start_time  lobby_type  r1_hero  r1_level  r1_xp  r1_gold  r1_lh  \\\n",
       "match_id                                                                     \n",
       "0         1430198770           7       11         5   2098     1489     20   \n",
       "1         1430220345           0       42         4   1188     1033      9   \n",
       "2         1430227081           7       33         4   1319     1270     22   \n",
       "3         1430263531           1       29         4   1779     1056     14   \n",
       "4         1430282290           7       13         4   1431     1090      8   \n",
       "\n",
       "          r1_kills  r1_deaths  r1_items          ...           \\\n",
       "match_id                                         ...            \n",
       "0                0          0         7          ...            \n",
       "1                0          1        12          ...            \n",
       "2                0          0        12          ...            \n",
       "3                0          0         5          ...            \n",
       "4                1          0         8          ...            \n",
       "\n",
       "          dire_boots_count  dire_ward_observer_count  dire_ward_sentry_count  \\\n",
       "match_id                                                                       \n",
       "0                        4                         2                       2   \n",
       "1                        4                         3                       1   \n",
       "2                        4                         3                       1   \n",
       "3                        4                         2                       0   \n",
       "4                        3                         3                       0   \n",
       "\n",
       "          dire_first_ward_time  duration  radiant_win  tower_status_radiant  \\\n",
       "match_id                                                                      \n",
       "0                        -52.0      2874            1                  1796   \n",
       "1                         -5.0      2463            1                  1974   \n",
       "2                         13.0      2130            0                     0   \n",
       "3                         27.0      1459            0                  1920   \n",
       "4                        -16.0      2449            0                     4   \n",
       "\n",
       "          tower_status_dire  barracks_status_radiant  barracks_status_dire  \n",
       "match_id                                                                    \n",
       "0                         0                       51                     0  \n",
       "1                         0                       63                     1  \n",
       "2                      1830                        0                    63  \n",
       "3                      2047                       50                    63  \n",
       "4                      1974                        3                    63  \n",
       "\n",
       "[5 rows x 108 columns]"
      ]
     },
     "execution_count": 1,
     "metadata": {},
     "output_type": "execute_result"
    }
   ],
   "source": [
    "import pandas\n",
    "features = pandas.read_csv('data\\\\features.csv', index_col='match_id')\n",
    "\n",
    "features.head()"
   ]
  },
  {
   "cell_type": "markdown",
   "metadata": {},
   "source": [
    "## Удалите признаки, связанные с итогами матча (они помечены в описании данных как отсутствующие в тестовой выборке)."
   ]
  },
  {
   "cell_type": "markdown",
   "metadata": {},
   "source": [
    "```python\n",
    "# итог матча (отсутствует в тестовых матчах)\n",
    "\"finish\": {\n",
    "    \"duration\": 2980,             # длительность в секундах\n",
    "    \"radiant_win\": false,         # true, если победила команда Radiant\n",
    "    \"tower_status_radiant\": 0,    # состояние башен у команд к концу игры\n",
    "    \"tower_status_dire\": 1972,    #   (см. описание битовой маски)\n",
    "    \"barracks_status_dire\": 63,   # состояние бараков у команд к концу игры\n",
    "    \"barracks_status_radiant\": 0  #   (см. описание битовой маски)\n",
    "}\n",
    "```"
   ]
  },
  {
   "cell_type": "code",
   "execution_count": 2,
   "metadata": {},
   "outputs": [
    {
     "name": "stdout",
     "output_type": "stream",
     "text": [
      "Количество столбцов до удаления:  108\n",
      "  Drop duration\n",
      "  Drop radiant_win\n",
      "  Drop tower_status_radiant\n",
      "  Drop tower_status_dire\n",
      "  Drop barracks_status_dire\n",
      "  Drop barracks_status_radiant\n",
      "Количество столбцов после удаления:  102\n"
     ]
    }
   ],
   "source": [
    "X_train = features\n",
    "\n",
    "print(\"Количество столбцов до удаления: \", X_train.shape[1])\n",
    "# 108\n",
    "\n",
    "for_removing = [\"duration\", \"radiant_win\", \"tower_status_radiant\", \"tower_status_dire\", \"barracks_status_dire\", \"barracks_status_radiant\"]\n",
    "\n",
    "for item in for_removing:\n",
    "    print(\"  Drop\", item)\n",
    "    X_train = X_train.drop(item, axis=1)\n",
    "    \n",
    "print(\"Количество столбцов после удаления: \", X_train.shape[1])\n",
    "# 102, OK"
   ]
  },
  {
   "cell_type": "markdown",
   "metadata": {},
   "source": [
    "## 2. Проверьте выборку на наличие пропусков с помощью функции count(), которая для каждого столбца показывает число заполненных значений. Много ли пропусков в данных? Запишите названия признаков, имеющих пропуски, и попробуйте для любых двух из них дать обоснование, почему их значения могут быть пропущены."
   ]
  },
  {
   "cell_type": "code",
   "execution_count": 3,
   "metadata": {},
   "outputs": [
    {
     "name": "stdout",
     "output_type": "stream",
     "text": [
      "Количество строк в таблице данных: 97230\n"
     ]
    }
   ],
   "source": [
    "row_count = X_train.shape[0]\n",
    "print(\"Количество строк в таблице данных:\", row_count)\n",
    "# 97230, если пропусков в столбце нет, должно быть столько заполненных значений"
   ]
  },
  {
   "cell_type": "code",
   "execution_count": 4,
   "metadata": {},
   "outputs": [
    {
     "name": "stdout",
     "output_type": "stream",
     "text": [
      "first_blood_time 77677\n",
      "first_blood_team 77677\n",
      "first_blood_player1 77677\n",
      "first_blood_player2 53243\n",
      "radiant_bottle_time 81539\n",
      "radiant_courier_time 96538\n",
      "radiant_flying_courier_time 69751\n",
      "radiant_first_ward_time 95394\n",
      "dire_bottle_time 81087\n",
      "dire_courier_time 96554\n",
      "dire_flying_courier_time 71132\n",
      "dire_first_ward_time 95404\n",
      "\n",
      "Названия признаков, имеющих пропуски:  ['first_blood_time', 'first_blood_team', 'first_blood_player1', 'first_blood_player2', 'radiant_bottle_time', 'radiant_courier_time', 'radiant_flying_courier_time', 'radiant_first_ward_time', 'dire_bottle_time', 'dire_courier_time', 'dire_flying_courier_time', 'dire_first_ward_time']\n"
     ]
    }
   ],
   "source": [
    "with_missings = []\n",
    "\n",
    "for i in X_train.columns:\n",
    "    count = X_train[i].count()\n",
    "    if count != row_count:\n",
    "        print(i, count)\n",
    "        with_missings.append(i)\n",
    "\n",
    "print(\"\\nНазвания признаков, имеющих пропуски: \", with_missings)"
   ]
  },
  {
   "cell_type": "markdown",
   "metadata": {},
   "source": [
    "**Названия признаков, имеющих пропуски:** 'first_blood_time', 'first_blood_team', 'first_blood_player1', 'first_blood_player2', 'radiant_bottle_time', 'radiant_courier_time', 'radiant_flying_courier_time', 'radiant_first_ward_time', 'dire_bottle_time', 'dire_courier_time', 'dire_flying_courier_time', 'dire_first_ward_time'\n",
    "\n",
    "**Обоснование пропусков.** Выбираем два признака из группы \"первая кровь\" (first_blood): first_blood_time и first_blood_team. \n",
    "Почему их значения могут быть пропущены? Ответ дан в описании признаков: если событие \"первая кровь\" (first blood) не успело произойти за первые 5 минут, то признаки принимают пропущенное значение."
   ]
  },
  {
   "cell_type": "markdown",
   "metadata": {},
   "source": [
    "## 3. Замените пропуски на нули с помощью функции fillna()."
   ]
  },
  {
   "cell_type": "code",
   "execution_count": 5,
   "metadata": {},
   "outputs": [
    {
     "data": {
      "text/plain": [
       "match_id\n",
       "0      7.0\n",
       "1     54.0\n",
       "2    224.0\n",
       "3      NaN\n",
       "4    -21.0\n",
       "Name: first_blood_time, dtype: float64"
      ]
     },
     "execution_count": 5,
     "metadata": {},
     "output_type": "execute_result"
    }
   ],
   "source": [
    "X_train['first_blood_time'].head()"
   ]
  },
  {
   "cell_type": "code",
   "execution_count": 6,
   "metadata": {},
   "outputs": [
    {
     "data": {
      "text/plain": [
       "match_id\n",
       "0      7.0\n",
       "1     54.0\n",
       "2    224.0\n",
       "3      0.0\n",
       "4    -21.0\n",
       "Name: first_blood_time, dtype: float64"
      ]
     },
     "execution_count": 6,
     "metadata": {},
     "output_type": "execute_result"
    }
   ],
   "source": [
    "for i in with_missings:\n",
    "    X_train[i].fillna(0, inplace=True)\n",
    "    \n",
    "X_train['first_blood_time'].head()\n",
    "# Значение с индексом=3 обнулили, ОК"
   ]
  },
  {
   "cell_type": "markdown",
   "metadata": {},
   "source": [
    "## 4. Какой столбец содержит целевую переменную? Запишите его название."
   ]
  },
  {
   "cell_type": "markdown",
   "metadata": {},
   "source": [
    "Еще раз уточним задачу: \"По первым 5 минутам игры предсказать, какая из команд победит: Radiant или Dire?\". Следовательно, **целевая переменная** хранится в столбце **radiant_win**. "
   ]
  },
  {
   "cell_type": "code",
   "execution_count": 7,
   "metadata": {},
   "outputs": [
    {
     "name": "stdout",
     "output_type": "stream",
     "text": [
      "True\n"
     ]
    },
    {
     "data": {
      "text/plain": [
       "match_id\n",
       "0     1\n",
       "1     1\n",
       "2     0\n",
       "3     0\n",
       "4     0\n",
       "5     0\n",
       "8     0\n",
       "9     1\n",
       "11    0\n",
       "12    0\n",
       "Name: radiant_win, dtype: int64"
      ]
     },
     "execution_count": 7,
     "metadata": {},
     "output_type": "execute_result"
    }
   ],
   "source": [
    "y_train = features['radiant_win']\n",
    "# Проверим, нет ли пропусков\n",
    "print(y_train.shape[0] == y_train.count())\n",
    "y_train[:10]"
   ]
  },
  {
   "cell_type": "markdown",
   "metadata": {
    "collapsed": true
   },
   "source": [
    "## 5. Забудем, что в выборке есть категориальные признаки, и попробуем обучить градиентный бустинг над деревьями на имеющейся матрице \"объекты-признаки\"."
   ]
  },
  {
   "cell_type": "markdown",
   "metadata": {},
   "source": [
    "Зафиксируйте генератор разбиений для кросс-валидации по 5 блокам (KFold), не забудьте перемешать при этом выборку (shuffle=True), поскольку данные в таблице отсортированы по времени, и без перемешивания можно столкнуться с нежелательными эффектами при оценивании качества. Оцените качество градиентного бустинга (GradientBoostingClassifier) с помощью данной кросс-валидации, попробуйте при этом разное количество деревьев (как минимум протестируйте следующие значения для количества деревьев: 10, 20, 30). Долго ли настраивались классификаторы? Достигнут ли оптимум на испытанных значениях параметра n_estimators, или же качество, скорее всего, продолжит расти при дальнейшем его увеличении?"
   ]
  },
  {
   "cell_type": "code",
   "execution_count": 8,
   "metadata": {},
   "outputs": [],
   "source": [
    "from sklearn.ensemble import GradientBoostingClassifier\n",
    "from sklearn.model_selection import KFold, cross_val_score\n",
    "import time\n",
    "import datetime\n",
    "\n",
    "def GB(X_train, y_train, n_estimators_range, depth):\n",
    "    kf = KFold(n_splits=5, random_state=1, shuffle=True)\n",
    "    scores = []\n",
    "    times = []\n",
    "    \n",
    "    for n_est in n_estimators_range:\n",
    "        print(\"n_estimators =\", n_est)\n",
    "        start_time = datetime.datetime.now()\n",
    "    \n",
    "        clf = GradientBoostingClassifier(n_estimators=n_est, verbose=False, random_state=1, max_depth=depth)\n",
    "        # clf.fit(X_train, y_train) - не нужно, вопрос о времени сформулирован четко: \"Как долго проводилась кросс-валидация...?\"\n",
    "            \n",
    "        score = cross_val_score(estimator=clf, X=X_train, y=y_train, scoring='roc_auc', cv=kf).mean()    \n",
    "        scores.append(score)\n",
    "    \n",
    "        print(\"cross_val_score =\", score)\n",
    "    \n",
    "        time_diff = datetime.datetime.now() - start_time;\n",
    "        times.append(time_diff.total_seconds())\n",
    "    \n",
    "        print(\"Как долго проводилась кросс-валидация:\", time_diff)  \n",
    "        \n",
    "    return scores, times"
   ]
  },
  {
   "cell_type": "code",
   "execution_count": 9,
   "metadata": {},
   "outputs": [
    {
     "name": "stdout",
     "output_type": "stream",
     "text": [
      "n_estimators = 5\n",
      "cross_val_score = 0.635672292845\n",
      "Как долго проводилась кросс-валидация: 0:00:15.093863\n",
      "n_estimators = 10\n",
      "cross_val_score = 0.664832922805\n",
      "Как долго проводилась кросс-валидация: 0:00:26.345507\n",
      "n_estimators = 15\n",
      "cross_val_score = 0.675966686078\n",
      "Как долго проводилась кросс-валидация: 0:00:36.869109\n",
      "n_estimators = 20\n",
      "cross_val_score = 0.68211403695\n",
      "Как долго проводилась кросс-валидация: 0:00:49.564835\n",
      "n_estimators = 30\n",
      "cross_val_score = 0.689694754206\n",
      "Как долго проводилась кросс-валидация: 0:01:09.983003\n",
      "n_estimators = 35\n",
      "cross_val_score = 0.692151076427\n",
      "Как долго проводилась кросс-валидация: 0:01:20.858625\n",
      "n_estimators = 40\n",
      "cross_val_score = 0.693934191602\n",
      "Как долго проводилась кросс-валидация: 0:01:32.502291\n"
     ]
    }
   ],
   "source": [
    "n_estimators_range = [5, 10, 15, 20, 30, 35, 40]\n",
    "# n_estimators_range = [1, 2]\n",
    "\n",
    "# Глубина деревьев по умолчанию\n",
    "scores_3, times_3 = GB(X_train, y_train, n_estimators_range, 3)"
   ]
  },
  {
   "cell_type": "code",
   "execution_count": 10,
   "metadata": {},
   "outputs": [
    {
     "name": "stdout",
     "output_type": "stream",
     "text": [
      "n_estimators = 5\n",
      "cross_val_score = 0.621054997297\n",
      "Как долго проводилась кросс-валидация: 0:00:09.249529\n",
      "n_estimators = 10\n",
      "cross_val_score = 0.650230450279\n",
      "Как долго проводилась кросс-валидация: 0:00:15.186869\n",
      "n_estimators = 15\n",
      "cross_val_score = 0.665248312702\n",
      "Как долго проводилась кросс-валидация: 0:00:21.011201\n",
      "n_estimators = 20\n",
      "cross_val_score = 0.673459569532\n",
      "Как долго проводилась кросс-валидация: 0:00:26.937541\n",
      "n_estimators = 30\n",
      "cross_val_score = 0.681695188308\n",
      "Как долго проводилась кросс-валидация: 0:00:38.861223\n",
      "n_estimators = 35\n",
      "cross_val_score = 0.684991008324\n",
      "Как долго проводилась кросс-валидация: 0:00:45.230587\n",
      "n_estimators = 40\n",
      "cross_val_score = 0.687273233717\n",
      "Как долго проводилась кросс-валидация: 0:00:51.626953\n"
     ]
    }
   ],
   "source": [
    "# Пробуем уменьшить глубину деревьев (max_depth)\n",
    "kf = KFold(n_splits=5, random_state=1, shuffle=True)\n",
    "scores_2, times_2 = GB(X_train, y_train, n_estimators_range, 2)"
   ]
  },
  {
   "cell_type": "code",
   "execution_count": 11,
   "metadata": {},
   "outputs": [
    {
     "data": {
      "image/png": "[encoded data removed]",
      "text/plain": [
       "<matplotlib.figure.Figure at 0x8978b90>"
      ]
     },
     "metadata": {},
     "output_type": "display_data"
    }
   ],
   "source": [
    "%matplotlib inline\n",
    "import matplotlib.pyplot as plt\n",
    "plt.plot(n_estimators_range, scores_3, label='max_depth = 3')\n",
    "plt.plot(n_estimators_range, scores_2, label='max_depth = 2')\n",
    "plt.xlabel('n_estimators')\n",
    "plt.ylabel('score')\n",
    "plt.title('Score comparison')\n",
    "plt.legend()\n",
    "# plt.savefig('estimators_score.png')\n",
    "plt.show()"
   ]
  },
  {
   "cell_type": "code",
   "execution_count": 12,
   "metadata": {},
   "outputs": [
    {
     "data": {
      "image/png": "[encoded data removed]",
      "text/plain": [
       "<matplotlib.figure.Figure at 0x8f91a70>"
      ]
     },
     "metadata": {},
     "output_type": "display_data"
    }
   ],
   "source": [
    "plt.plot(n_estimators_range, times_3, label='max_depth = 3')\n",
    "plt.plot(n_estimators_range, times_2, label='max_depth = 2')\n",
    "plt.xlabel('n_estimators')\n",
    "plt.ylabel('CV time')\n",
    "plt.title('Speed comparison')\n",
    "plt.legend()\n",
    "plt.show()"
   ]
  },
  {
   "cell_type": "markdown",
   "metadata": {},
   "source": [
    "## Ответы на вопросы\n",
    "\n",
    "#### Как долго проводилась кросс-валидация для градиентного бустинга с 30 деревьями? \n",
    "0:01:10.495032\n",
    "\n",
    "#### Какое качество при этом получилось? \n",
    "0.689694754206 (метрика AUC_ROC)\n",
    "\n",
    "#### Достигнут ли оптимум на испытанных значениях параметра n_estimators, или же качество, скорее всего, продолжит расти при дальнейшем его увеличении? \n",
    "Качество продолжит расти, проверено при n_estimators = 35 и 40.\n",
    "\n",
    "#### Что бы вы предложили делать, чтобы ускорить его обучение при увеличении количества деревьев? \n",
    "Внимательно читаем советы и рекомендации из задания, проверяем, соглашаемся: \n",
    "\n",
    "- Использовать для обучения и кросс-валидации не всю выборку, а некоторое ее подмножество.\n",
    "- Уменьшить глубину деревьев в градиентом бустинге (max_depth)."
   ]
  },
  {
   "cell_type": "markdown",
   "metadata": {
    "collapsed": true
   },
   "source": [
    "# Подход 2: логистическая регрессия"
   ]
  },
  {
   "cell_type": "markdown",
   "metadata": {
    "collapsed": true
   },
   "source": [
    "## 1. Оцените качество логистической регрессии (sklearn.linear_model.LogisticRegression с L2-регуляризацией) с помощью кросс-валидации по той же схеме, которая использовалась для градиентного бустинга."
   ]
  },
  {
   "cell_type": "markdown",
   "metadata": {
    "collapsed": true
   },
   "source": [
    "Подберите при этом лучший параметр регуляризации (C). Какое наилучшее качество у вас получилось? Как оно соотносится с качеством градиентного бустинга? Чем вы можете объяснить эту разницу? Быстрее ли работает логистическая регрессия по сравнению с градиентным бустингом?"
   ]
  },
  {
   "cell_type": "code",
   "execution_count": 13,
   "metadata": {
    "collapsed": true
   },
   "outputs": [],
   "source": [
    "# Важно: не забывайте, что линейные алгоритмы чувствительны к масштабу признаков!\n",
    "from sklearn.preprocessing import StandardScaler\n",
    "scaler = StandardScaler()\n",
    "X_train_scaled = scaler.fit_transform(X_train)\n",
    "\n",
    "kf = KFold(n_splits=5, random_state=1, shuffle=True)"
   ]
  },
  {
   "cell_type": "code",
   "execution_count": 14,
   "metadata": {
    "collapsed": true
   },
   "outputs": [],
   "source": [
    "from sklearn.linear_model import LogisticRegression\n",
    "\n",
    "def LR(X, y, C_range):\n",
    "    scores = []\n",
    "    times = []\n",
    "    \n",
    "    for C_param in C_range:\n",
    "        print(\"C =\", C_param)\n",
    "        start_time = datetime.datetime.now()\n",
    "    \n",
    "        clf = LogisticRegression(C=C_param, random_state=1)\n",
    "                            \n",
    "        score = cross_val_score(estimator=clf, X=X, y=y, scoring='roc_auc', cv=kf).mean()    \n",
    "        scores.append(score)\n",
    "    \n",
    "        print(\"cross_val_score =\", score)\n",
    "    \n",
    "        time_diff = datetime.datetime.now() - start_time;\n",
    "        times.append(time_diff.total_seconds())\n",
    "    \n",
    "        print(\"Как долго проводилась кросс-валидация:\", time_diff)  \n",
    "        \n",
    "    max_score = max(scores)\n",
    "    max_score_index = scores.index(max_score)\n",
    "    print(\"Max_score =\", max_score)\n",
    "    print(\"C =\", C_range[max_score_index])\n",
    "    \n",
    "    plt.plot(C_pow_range, scores)\n",
    "    plt.xlabel('log(C)')\n",
    "    plt.ylabel('Score')\n",
    "    plt.show()"
   ]
  },
  {
   "cell_type": "code",
   "execution_count": 15,
   "metadata": {},
   "outputs": [
    {
     "name": "stdout",
     "output_type": "stream",
     "text": [
      "C = 1e-05\n",
      "cross_val_score = 0.69517710568\n",
      "Как долго проводилась кросс-валидация: 0:00:03.765215\n",
      "C = 0.0001\n",
      "cross_val_score = 0.711286514834\n",
      "Как долго проводилась кросс-валидация: 0:00:05.879336\n",
      "C = 0.001\n",
      "cross_val_score = 0.716209636009\n",
      "Как долго проводилась кросс-валидация: 0:00:11.043632\n",
      "C = 0.01\n",
      "cross_val_score = 0.716375795913\n",
      "Как долго проводилась кросс-валидация: 0:00:14.671839\n",
      "C = 0.1\n",
      "cross_val_score = 0.71635092993\n",
      "Как долго проводилась кросс-валидация: 0:00:15.635894\n",
      "C = 1\n",
      "cross_val_score = 0.716347270307\n",
      "Как долго проводилась кросс-валидация: 0:00:15.741901\n",
      "Max_score = 0.716375795913\n",
      "C = 0.01\n"
     ]
    },
    {
     "data": {
      "image/png": "[encoded data removed]",
      "text/plain": [
       "<matplotlib.figure.Figure at 0x91ddb30>"
      ]
     },
     "metadata": {},
     "output_type": "display_data"
    }
   ],
   "source": [
    "C_pow_range = range(-5,1);\n",
    "C_range = [10 ** i for i in C_pow_range]\n",
    "LR(X_train_scaled, y_train, C_range)"
   ]
  },
  {
   "cell_type": "markdown",
   "metadata": {},
   "source": [
    "## 2. Среди признаков в выборке есть категориальные, которые мы использовали как числовые, что вряд ли является хорошей идеей.\n",
    "Категориальных признаков в этой задаче одиннадцать: lobby_type и r1_hero, r2_hero, ..., r5_hero, d1_hero, d2_hero, ..., d5_hero. Уберите их из выборки, и проведите кросс-валидацию для логистической регрессии на новой выборке с подбором лучшего параметра регуляризации. Изменилось ли качество? Чем вы можете это объяснить?"
   ]
  },
  {
   "cell_type": "code",
   "execution_count": 16,
   "metadata": {},
   "outputs": [
    {
     "name": "stdout",
     "output_type": "stream",
     "text": [
      "Количество столбцов до удаления:  102\n",
      "  Drop lobby_type\n",
      "  Drop r1_hero\n",
      "  Drop r2_hero\n",
      "  Drop r3_hero\n",
      "  Drop r4_hero\n",
      "  Drop r5_hero\n",
      "  Drop d1_hero\n",
      "  Drop d2_hero\n",
      "  Drop d3_hero\n",
      "  Drop d4_hero\n",
      "  Drop d5_hero\n",
      "Количество столбцов после удаления:  91\n"
     ]
    }
   ],
   "source": [
    "print(\"Количество столбцов до удаления: \", X_train.shape[1])\n",
    "# 102\n",
    "\n",
    "for_removing = [\"lobby_type\", \"r1_hero\", \"r2_hero\", \"r3_hero\", \"r4_hero\", \"r5_hero\", \"d1_hero\", \"d2_hero\", \"d3_hero\", \"d4_hero\", \"d5_hero\"]\n",
    "\n",
    "for item in for_removing:\n",
    "    print(\"  Drop\", item)\n",
    "    X_train = X_train.drop(item, axis=1)\n",
    "    \n",
    "print(\"Количество столбцов после удаления: \", X_train.shape[1])\n",
    "# 91, OK"
   ]
  },
  {
   "cell_type": "code",
   "execution_count": 17,
   "metadata": {},
   "outputs": [
    {
     "name": "stdout",
     "output_type": "stream",
     "text": [
      "C = 1e-05\n",
      "cross_val_score = 0.695111069435\n",
      "Как долго проводилась кросс-валидация: 0:00:03.478198\n",
      "C = 0.0001\n",
      "cross_val_score = 0.71126295007\n",
      "Как долго проводилась кросс-валидация: 0:00:05.532317\n",
      "C = 0.001\n",
      "cross_val_score = 0.716233310372\n",
      "Как долго проводилась кросс-валидация: 0:00:09.813561\n",
      "C = 0.01\n",
      "cross_val_score = 0.716408870274\n",
      "Как долго проводилась кросс-валидация: 0:00:13.349764\n",
      "C = 0.1\n",
      "cross_val_score = 0.716383801538\n",
      "Как долго проводилась кросс-валидация: 0:00:14.308818\n",
      "C = 1\n",
      "cross_val_score = 0.71638033903\n",
      "Как долго проводилась кросс-валидация: 0:00:14.383823\n",
      "Max_score = 0.716408870274\n",
      "C = 0.01\n"
     ]
    },
    {
     "data": {
      "image/png": "[encoded data removed]",
      "text/plain": [
       "<matplotlib.figure.Figure at 0x91ebaf0>"
      ]
     },
     "metadata": {},
     "output_type": "display_data"
    }
   ],
   "source": [
    "X_train_scaled = scaler.fit_transform(X_train)\n",
    "LR(X_train_scaled, y_train, C_range)\n",
    "# Качество незначительно улучшилось"
   ]
  },
  {
   "cell_type": "markdown",
   "metadata": {},
   "source": [
    "## 3. На предыдущем шаге мы исключили из выборки признаки rM_hero и dM_hero, которые показывают, какие именно герои играли за каждую команду. \n",
    "Это важные признаки — герои имеют разные характеристики, и некоторые из них выигрывают чаще, чем другие. Выясните из данных, сколько различных идентификаторов героев существует в данной игре (вам может пригодиться фукнция unique или value_counts)."
   ]
  },
  {
   "cell_type": "code",
   "execution_count": 18,
   "metadata": {},
   "outputs": [],
   "source": [
    "for_removing.remove('lobby_type')"
   ]
  },
  {
   "cell_type": "code",
   "execution_count": 19,
   "metadata": {},
   "outputs": [
    {
     "name": "stdout",
     "output_type": "stream",
     "text": [
      "108\n"
     ]
    }
   ],
   "source": [
    "import numpy as np\n",
    "heroes = np.array([])\n",
    "\n",
    "for item in for_removing:\n",
    "    heroes = np.append(heroes, features[item].unique())\n",
    "\n",
    "unique = np.unique(heroes)\n",
    "N = np.count_nonzero(unique)\n",
    "print(N)\n",
    "# 108 геров"
   ]
  },
  {
   "cell_type": "markdown",
   "metadata": {},
   "source": [
    "## 4. Воспользуемся подходом \"мешок слов\" для кодирования информации о героях.\n",
    "Пусть всего в игре имеет N различных героев. Сформируем N признаков, при этом i-й будет равен нулю, если i-й герой не участвовал в матче; единице, если i-й герой играл за команду Radiant; минус единице, если i-й герой играл за команду Dire. Ниже вы можете найти код, который выполняет данной преобразование. Добавьте полученные признаки к числовым, которые вы использовали во втором пункте данного этапа."
   ]
  },
  {
   "cell_type": "code",
   "execution_count": 20,
   "metadata": {},
   "outputs": [],
   "source": [
    "N = int(max(unique)) + 1"
   ]
  },
  {
   "cell_type": "code",
   "execution_count": 21,
   "metadata": {},
   "outputs": [
    {
     "name": "stdout",
     "output_type": "stream",
     "text": [
      "0\n",
      "5000\n",
      "10000\n",
      "15000\n",
      "20000\n",
      "25000\n",
      "30000\n",
      "35000\n",
      "40000\n",
      "45000\n",
      "50000\n",
      "55000\n",
      "60000\n",
      "65000\n",
      "70000\n",
      "75000\n",
      "80000\n",
      "85000\n",
      "90000\n",
      "95000\n"
     ]
    }
   ],
   "source": [
    "# N — количество различных героев в выборке\n",
    "# номера героев \n",
    "X_pick = np.zeros((X_train.shape[0], N))\n",
    "\n",
    "for i, match_id in enumerate(features.index):\n",
    "    if i % 5000 == 0:\n",
    "        print(i)\n",
    "    for p in range(1,6):\n",
    "        r_index = features['r%d_hero' % p][match_id]\n",
    "        d_index = features['d%d_hero' % p][match_id]\n",
    "        X_pick[i, r_index] = 1 \n",
    "        X_pick[i, d_index] = -1"
   ]
  },
  {
   "cell_type": "code",
   "execution_count": 22,
   "metadata": {},
   "outputs": [
    {
     "name": "stdout",
     "output_type": "stream",
     "text": [
      "(97230, 91)\n",
      "(97230, 113)\n"
     ]
    }
   ],
   "source": [
    "print(np.shape(X_train_scaled))\n",
    "print(np.shape(X_pick))"
   ]
  },
  {
   "cell_type": "code",
   "execution_count": 23,
   "metadata": {},
   "outputs": [
    {
     "name": "stdout",
     "output_type": "stream",
     "text": [
      "(97230, 204)\n"
     ]
    }
   ],
   "source": [
    "X_train_scaled = np.concatenate((X_train_scaled, X_pick), axis=1)\n",
    "print(np.shape(X_train_scaled))\n",
    "# Проверяем корректность добавления признаков"
   ]
  },
  {
   "cell_type": "markdown",
   "metadata": {},
   "source": [
    "## 5. Проведите кросс-валидацию для логистической регрессии на новой выборке с подбором лучшего параметра регуляризации. Какое получилось качество? Улучшилось ли оно? Чем вы можете это объяснить?"
   ]
  },
  {
   "cell_type": "code",
   "execution_count": null,
   "metadata": {},
   "outputs": [
    {
     "name": "stdout",
     "output_type": "stream",
     "text": [
      "C = 1e-05\n",
      "cross_val_score = 0.699229689345\n",
      "Как долго проводилась кросс-валидация: 0:00:03.744214\n",
      "C = 0.0001\n",
      "cross_val_score = 0.725009127603\n",
      "Как долго проводилась кросс-валидация: 0:00:06.201355\n",
      "C = 0.001\n",
      "cross_val_score = 0.746212139498\n",
      "Как долго проводилась кросс-валидация: 0:00:12.446712\n",
      "C = 0.01\n",
      "cross_val_score = 0.751651585454\n",
      "Как долго проводилась кросс-валидация: 0:00:20.591178\n",
      "C = 0.1\n",
      "cross_val_score = 0.751873040025\n",
      "Как долго проводилась кросс-валидация: 0:00:29.167668\n",
      "C = 1\n",
      "cross_val_score = 0.751857202856\n",
      "Как долго проводилась кросс-валидация: 0:00:31.318791\n",
      "Max_score = 0.751873040025\n",
      "C = 0.1\n"
     ]
    },
    {
     "data": {
      "image/png": "[encoded data removed]",
      "text/plain": [
       "<matplotlib.figure.Figure at 0xe1e69d0>"
      ]
     },
     "metadata": {},
     "output_type": "display_data"
    }
   ],
   "source": [
    "LR(X_train_scaled, y_train, C_range)"
   ]
  },
  {
   "cell_type": "markdown",
   "metadata": {},
   "source": [
    "## 6. Постройте предсказания вероятностей победы команды Radiant для тестовой выборки с помощью лучшей из изученных моделей (лучшей с точки зрения AUC-ROC на кросс-валидации). \n",
    "Убедитесь, что предсказанные вероятности адекватные — находятся на отрезке [0, 1], не совпадают между собой (т.е. что модель не получилась константной)."
   ]
  },
  {
   "cell_type": "code",
   "execution_count": null,
   "metadata": {},
   "outputs": [
    {
     "name": "stdout",
     "output_type": "stream",
     "text": [
      "  Drop lobby_type\n",
      "  Drop r1_hero\n",
      "  Drop r2_hero\n",
      "  Drop r3_hero\n",
      "  Drop r4_hero\n",
      "  Drop r5_hero\n",
      "  Drop d1_hero\n",
      "  Drop d2_hero\n",
      "  Drop d3_hero\n",
      "  Drop d4_hero\n",
      "  Drop d5_hero\n",
      "0\n"
     ]
    }
   ],
   "source": [
    "# Повторяем предобработку для тестовой выборки\n",
    "features_test = pandas.read_csv('data\\\\features_test.csv', index_col='match_id')\n",
    "X_test = features_test\n",
    "row_count = X_test.shape[0]\n",
    "\n",
    "with_missings = []\n",
    "\n",
    "for i in X_test.columns:\n",
    "    count = X_test[i].count()\n",
    "    if count != row_count:\n",
    "        with_missings.append(i)\n",
    "        \n",
    "for i in with_missings:\n",
    "    X_test[i].fillna(0, inplace=True)     \n",
    "    \n",
    "for_removing = [\"lobby_type\", \"r1_hero\", \"r2_hero\", \"r3_hero\", \"r4_hero\", \"r5_hero\", \"d1_hero\", \"d2_hero\", \"d3_hero\", \"d4_hero\", \"d5_hero\"]\n",
    "\n",
    "for item in for_removing:\n",
    "    print(\"  Drop\", item)\n",
    "    X_test = X_test.drop(item, axis=1)\n",
    "    \n",
    "scaler = StandardScaler()\n",
    "X_test_scaled = scaler.fit_transform(X_test)\n",
    "\n",
    "X_pick = np.zeros((X_test.shape[0], N))\n",
    "\n",
    "for i, match_id in enumerate(features_test.index):\n",
    "    if i % 5000 == 0:\n",
    "        print(i)\n",
    "    for p in range(1,6):\n",
    "        r_index = features_test['r%d_hero' % p][match_id]\n",
    "        d_index = features_test['d%d_hero' % p][match_id]\n",
    "        X_pick[i, r_index] = 1 \n",
    "        X_pick[i, d_index] = -1\n",
    "        \n",
    "X_test_scaled = np.concatenate((X_test_scaled, X_pick), axis=1)"
   ]
  },
  {
   "cell_type": "code",
   "execution_count": null,
   "metadata": {},
   "outputs": [],
   "source": [
    "clf = LogisticRegression(C=0.1, random_state=1)\n",
    "clf.fit(X_train_scaled, y_train)\n",
    "pred = clf.predict_proba(X_test_scaled)[:, 1]"
   ]
  },
  {
   "cell_type": "code",
   "execution_count": null,
   "metadata": {},
   "outputs": [],
   "source": [
    "print(min(pred))\n",
    "print(max(pred))\n",
    "# Значения адекватные"
   ]
  },
  {
   "cell_type": "markdown",
   "metadata": {},
   "source": [
    "## Ответы на вопросы\n",
    "#### Какое качество получилось у логистической регрессии над всеми исходными признаками? Как оно соотносится с качеством градиентного бустинга? Чем вы можете объяснить эту разницу? Быстрее ли работает логистическая регрессия по сравнению с градиентным бустингом?\n",
    "\n",
    "Максимальное значение качества (метрика AUC_ROC) 0.716375795913 получено при значении C = 0.01. \n",
    "\n",
    "При сопоставимом времени обучения качество у LR получилось выше, чем у GB (0.716375795913 > 0.689694754206). Хотя, как было отмечено в первом блоке вопросов, существуют возможности для повышения качества GB. Линейные методы работают быстрее композиций деревьев, но требуют дополнительной предобработки исходных данных.\n",
    "\n",
    "#### Как влияет на качество логистической регрессии удаление категориальных признаков (укажите новое значение метрики качества)? Чем вы можете объяснить это изменение?\n",
    "\n",
    "Новое значение метрики качества (AUC_ROC) 0.716408870274 получено при значении C = 0.01. Это чуть \"лучше\", чем при включении категориальных признаков в признаковое пространство. Можно согласиться с тем, что наличие таких признаков при прочих равных условиях усложняет (ухудшает) качество LR. \n",
    "\n",
    "С другой стороны, исключая часть признаков, мы уменьшаем количество информации, доступной для модели (возможно, полезной для обучения).\n",
    "\n",
    "\"На данный момент не существует общепринятого стандартного «де-факто» набора алгоритмов для решения задач машинного обучения с категориальными признаками.\" Помимо используемого числового кодирования существует множество различных эвристик обработки таких признаков (частотное кодирование и др.). Использование таких эвристик также может повысить качество работы LR.\n",
    "\n",
    "#### Сколько различных идентификаторов героев существует в данной игре?\n",
    "\n",
    "108\n",
    "\n",
    "#### Какое получилось качество при добавлении \"мешка слов\" по героям? Улучшилось ли оно по сравнению с предыдущим вариантом? Чем вы можете это объяснить?\n",
    "\n",
    "Значение метрики качества (AUC_ROC) при использовании \"мешка слов\" = 0.751870002273 (получено при значении C = 0.1). Оно улучшилось по сравнению с предыдущим вариантом (0.751870002273 > 0.716408870274). Значит, применение такой эвристики для учета информации об участвующих героях лучше, чем использование простого кодирования (1 вариант) или только удаление соответствующих категориальных признаков (2 вариант).\n",
    "\n",
    "#### Какое минимальное и максимальное значение прогноза на тестовой выборке получилось у лучшего из алгоритмов?\n",
    "+ Минимальное значение = 0.00858056961074\n",
    "+ Максимальное значение = 0.996458680349"
   ]
  }
 ],
 "metadata": {
  "kernelspec": {
   "display_name": "Python 3",
   "language": "python",
   "name": "python3"
  },
  "language_info": {
   "codemirror_mode": {
    "name": "ipython",
    "version": 3
   },
   "file_extension": ".py",
   "mimetype": "text/x-python",
   "name": "python",
   "nbconvert_exporter": "python",
   "pygments_lexer": "ipython3",
   "version": "3.6.1"
  }
 },
 "nbformat": 4,
 "nbformat_minor": 2
}
